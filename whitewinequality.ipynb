{
 "cells": [
  {
   "cell_type": "markdown",
   "id": "ff46be90",
   "metadata": {
    "papermill": {
     "duration": 0.012135,
     "end_time": "2023-10-07T08:21:35.497086",
     "exception": false,
     "start_time": "2023-10-07T08:21:35.484951",
     "status": "completed"
    },
    "tags": []
   },
   "source": [
    "# Import Libraries\n"
   ]
  },
  {
   "cell_type": "code",
   "execution_count": 1,
   "id": "88f1c9ba",
   "metadata": {
    "execution": {
     "iopub.execute_input": "2023-10-07T08:21:35.521559Z",
     "iopub.status.busy": "2023-10-07T08:21:35.520736Z",
     "iopub.status.idle": "2023-10-07T08:21:35.986554Z",
     "shell.execute_reply": "2023-10-07T08:21:35.984857Z"
    },
    "papermill": {
     "duration": 0.481166,
     "end_time": "2023-10-07T08:21:35.989394",
     "exception": false,
     "start_time": "2023-10-07T08:21:35.508228",
     "status": "completed"
    },
    "tags": []
   },
   "outputs": [],
   "source": [
    "import numpy as np\n",
    "import pandas as pd"
   ]
  },
  {
   "cell_type": "markdown",
   "id": "3f048453",
   "metadata": {
    "papermill": {
     "duration": 0.011824,
     "end_time": "2023-10-07T08:21:36.013213",
     "exception": false,
     "start_time": "2023-10-07T08:21:36.001389",
     "status": "completed"
    },
    "tags": []
   },
   "source": [
    "# Import CSV as DataFrame\n"
   ]
  },
  {
   "cell_type": "code",
   "execution_count": 2,
   "id": "22873afb",
   "metadata": {
    "execution": {
     "iopub.execute_input": "2023-10-07T08:21:36.038904Z",
     "iopub.status.busy": "2023-10-07T08:21:36.037869Z",
     "iopub.status.idle": "2023-10-07T08:21:36.076023Z",
     "shell.execute_reply": "2023-10-07T08:21:36.074997Z"
    },
    "papermill": {
     "duration": 0.054016,
     "end_time": "2023-10-07T08:21:36.078461",
     "exception": false,
     "start_time": "2023-10-07T08:21:36.024445",
     "status": "completed"
    },
    "tags": []
   },
   "outputs": [],
   "source": [
    "df = pd.read_csv(\"/kaggle/input/white-wine-quality/WhiteWineQuality.csv\", sep=';')"
   ]
  },
  {
   "cell_type": "markdown",
   "id": "a42f709d",
   "metadata": {
    "papermill": {
     "duration": 0.011195,
     "end_time": "2023-10-07T08:21:36.100608",
     "exception": false,
     "start_time": "2023-10-07T08:21:36.089413",
     "status": "completed"
    },
    "tags": []
   },
   "source": [
    "# Get the first five rows of dataframe\n"
   ]
  },
  {
   "cell_type": "code",
   "execution_count": 3,
   "id": "a73384e9",
   "metadata": {
    "execution": {
     "iopub.execute_input": "2023-10-07T08:21:36.126151Z",
     "iopub.status.busy": "2023-10-07T08:21:36.124421Z",
     "iopub.status.idle": "2023-10-07T08:21:36.148090Z",
     "shell.execute_reply": "2023-10-07T08:21:36.145775Z"
    },
    "papermill": {
     "duration": 0.039069,
     "end_time": "2023-10-07T08:21:36.150633",
     "exception": false,
     "start_time": "2023-10-07T08:21:36.111564",
     "status": "completed"
    },
    "tags": []
   },
   "outputs": [
    {
     "name": "stdout",
     "output_type": "stream",
     "text": [
      "   fixed acidity  volatile acidity  citric acid  residual sugar  chlorides  \\\n",
      "0            7.0              0.27         0.36            20.7      0.045   \n",
      "1            6.3              0.30         0.34             1.6      0.049   \n",
      "2            8.1              0.28         0.40             6.9      0.050   \n",
      "3            7.2              0.23         0.32             8.5      0.058   \n",
      "4            7.2              0.23         0.32             8.5      0.058   \n",
      "\n",
      "   free sulfur dioxide  total sulfur dioxide  density    pH  sulphates  \\\n",
      "0                 45.0                 170.0   1.0010  3.00       0.45   \n",
      "1                 14.0                 132.0   0.9940  3.30       0.49   \n",
      "2                 30.0                  97.0   0.9951  3.26       0.44   \n",
      "3                 47.0                 186.0   0.9956  3.19       0.40   \n",
      "4                 47.0                 186.0   0.9956  3.19       0.40   \n",
      "\n",
      "   alcohol  quality  \n",
      "0      8.8        6  \n",
      "1      9.5        6  \n",
      "2     10.1        6  \n",
      "3      9.9        6  \n",
      "4      9.9        6  \n"
     ]
    }
   ],
   "source": [
    "print(df.head())"
   ]
  },
  {
   "cell_type": "markdown",
   "id": "14314f15",
   "metadata": {
    "papermill": {
     "duration": 0.010627,
     "end_time": "2023-10-07T08:21:36.172375",
     "exception": false,
     "start_time": "2023-10-07T08:21:36.161748",
     "status": "completed"
    },
    "tags": []
   },
   "source": [
    "# Get Information of DataFrame\n"
   ]
  },
  {
   "cell_type": "code",
   "execution_count": 4,
   "id": "199fcd46",
   "metadata": {
    "execution": {
     "iopub.execute_input": "2023-10-07T08:21:36.196586Z",
     "iopub.status.busy": "2023-10-07T08:21:36.196052Z",
     "iopub.status.idle": "2023-10-07T08:21:36.230303Z",
     "shell.execute_reply": "2023-10-07T08:21:36.228934Z"
    },
    "papermill": {
     "duration": 0.05002,
     "end_time": "2023-10-07T08:21:36.233239",
     "exception": false,
     "start_time": "2023-10-07T08:21:36.183219",
     "status": "completed"
    },
    "tags": []
   },
   "outputs": [
    {
     "name": "stdout",
     "output_type": "stream",
     "text": [
      "<class 'pandas.core.frame.DataFrame'>\n",
      "RangeIndex: 4898 entries, 0 to 4897\n",
      "Data columns (total 12 columns):\n",
      " #   Column                Non-Null Count  Dtype  \n",
      "---  ------                --------------  -----  \n",
      " 0   fixed acidity         4898 non-null   float64\n",
      " 1   volatile acidity      4898 non-null   float64\n",
      " 2   citric acid           4898 non-null   float64\n",
      " 3   residual sugar        4898 non-null   float64\n",
      " 4   chlorides             4898 non-null   float64\n",
      " 5   free sulfur dioxide   4898 non-null   float64\n",
      " 6   total sulfur dioxide  4898 non-null   float64\n",
      " 7   density               4898 non-null   float64\n",
      " 8   pH                    4898 non-null   float64\n",
      " 9   sulphates             4898 non-null   float64\n",
      " 10  alcohol               4898 non-null   float64\n",
      " 11  quality               4898 non-null   int64  \n",
      "dtypes: float64(11), int64(1)\n",
      "memory usage: 459.3 KB\n"
     ]
    }
   ],
   "source": [
    "df.info()\n"
   ]
  },
  {
   "cell_type": "markdown",
   "id": "3393820d",
   "metadata": {
    "papermill": {
     "duration": 0.010801,
     "end_time": "2023-10-07T08:21:36.255730",
     "exception": false,
     "start_time": "2023-10-07T08:21:36.244929",
     "status": "completed"
    },
    "tags": []
   },
   "source": [
    "# Get the Summary Statistics\n"
   ]
  },
  {
   "cell_type": "code",
   "execution_count": 5,
   "id": "f944c5b2",
   "metadata": {
    "execution": {
     "iopub.execute_input": "2023-10-07T08:21:36.279334Z",
     "iopub.status.busy": "2023-10-07T08:21:36.278980Z",
     "iopub.status.idle": "2023-10-07T08:21:36.330330Z",
     "shell.execute_reply": "2023-10-07T08:21:36.328801Z"
    },
    "papermill": {
     "duration": 0.065939,
     "end_time": "2023-10-07T08:21:36.332570",
     "exception": false,
     "start_time": "2023-10-07T08:21:36.266631",
     "status": "completed"
    },
    "tags": []
   },
   "outputs": [
    {
     "data": {
      "text/html": [
       "<div>\n",
       "<style scoped>\n",
       "    .dataframe tbody tr th:only-of-type {\n",
       "        vertical-align: middle;\n",
       "    }\n",
       "\n",
       "    .dataframe tbody tr th {\n",
       "        vertical-align: top;\n",
       "    }\n",
       "\n",
       "    .dataframe thead th {\n",
       "        text-align: right;\n",
       "    }\n",
       "</style>\n",
       "<table border=\"1\" class=\"dataframe\">\n",
       "  <thead>\n",
       "    <tr style=\"text-align: right;\">\n",
       "      <th></th>\n",
       "      <th>fixed acidity</th>\n",
       "      <th>volatile acidity</th>\n",
       "      <th>citric acid</th>\n",
       "      <th>residual sugar</th>\n",
       "      <th>chlorides</th>\n",
       "      <th>free sulfur dioxide</th>\n",
       "      <th>total sulfur dioxide</th>\n",
       "      <th>density</th>\n",
       "      <th>pH</th>\n",
       "      <th>sulphates</th>\n",
       "      <th>alcohol</th>\n",
       "      <th>quality</th>\n",
       "    </tr>\n",
       "  </thead>\n",
       "  <tbody>\n",
       "    <tr>\n",
       "      <th>count</th>\n",
       "      <td>4898.000000</td>\n",
       "      <td>4898.000000</td>\n",
       "      <td>4898.000000</td>\n",
       "      <td>4898.000000</td>\n",
       "      <td>4898.000000</td>\n",
       "      <td>4898.000000</td>\n",
       "      <td>4898.000000</td>\n",
       "      <td>4898.000000</td>\n",
       "      <td>4898.000000</td>\n",
       "      <td>4898.000000</td>\n",
       "      <td>4898.000000</td>\n",
       "      <td>4898.000000</td>\n",
       "    </tr>\n",
       "    <tr>\n",
       "      <th>mean</th>\n",
       "      <td>6.854788</td>\n",
       "      <td>0.278241</td>\n",
       "      <td>0.334192</td>\n",
       "      <td>6.391415</td>\n",
       "      <td>0.045772</td>\n",
       "      <td>35.308085</td>\n",
       "      <td>138.360657</td>\n",
       "      <td>0.994027</td>\n",
       "      <td>3.188267</td>\n",
       "      <td>0.489847</td>\n",
       "      <td>10.514267</td>\n",
       "      <td>5.877909</td>\n",
       "    </tr>\n",
       "    <tr>\n",
       "      <th>std</th>\n",
       "      <td>0.843868</td>\n",
       "      <td>0.100795</td>\n",
       "      <td>0.121020</td>\n",
       "      <td>5.072058</td>\n",
       "      <td>0.021848</td>\n",
       "      <td>17.007137</td>\n",
       "      <td>42.498065</td>\n",
       "      <td>0.002991</td>\n",
       "      <td>0.151001</td>\n",
       "      <td>0.114126</td>\n",
       "      <td>1.230621</td>\n",
       "      <td>0.885639</td>\n",
       "    </tr>\n",
       "    <tr>\n",
       "      <th>min</th>\n",
       "      <td>3.800000</td>\n",
       "      <td>0.080000</td>\n",
       "      <td>0.000000</td>\n",
       "      <td>0.600000</td>\n",
       "      <td>0.009000</td>\n",
       "      <td>2.000000</td>\n",
       "      <td>9.000000</td>\n",
       "      <td>0.987110</td>\n",
       "      <td>2.720000</td>\n",
       "      <td>0.220000</td>\n",
       "      <td>8.000000</td>\n",
       "      <td>3.000000</td>\n",
       "    </tr>\n",
       "    <tr>\n",
       "      <th>25%</th>\n",
       "      <td>6.300000</td>\n",
       "      <td>0.210000</td>\n",
       "      <td>0.270000</td>\n",
       "      <td>1.700000</td>\n",
       "      <td>0.036000</td>\n",
       "      <td>23.000000</td>\n",
       "      <td>108.000000</td>\n",
       "      <td>0.991723</td>\n",
       "      <td>3.090000</td>\n",
       "      <td>0.410000</td>\n",
       "      <td>9.500000</td>\n",
       "      <td>5.000000</td>\n",
       "    </tr>\n",
       "    <tr>\n",
       "      <th>50%</th>\n",
       "      <td>6.800000</td>\n",
       "      <td>0.260000</td>\n",
       "      <td>0.320000</td>\n",
       "      <td>5.200000</td>\n",
       "      <td>0.043000</td>\n",
       "      <td>34.000000</td>\n",
       "      <td>134.000000</td>\n",
       "      <td>0.993740</td>\n",
       "      <td>3.180000</td>\n",
       "      <td>0.470000</td>\n",
       "      <td>10.400000</td>\n",
       "      <td>6.000000</td>\n",
       "    </tr>\n",
       "    <tr>\n",
       "      <th>75%</th>\n",
       "      <td>7.300000</td>\n",
       "      <td>0.320000</td>\n",
       "      <td>0.390000</td>\n",
       "      <td>9.900000</td>\n",
       "      <td>0.050000</td>\n",
       "      <td>46.000000</td>\n",
       "      <td>167.000000</td>\n",
       "      <td>0.996100</td>\n",
       "      <td>3.280000</td>\n",
       "      <td>0.550000</td>\n",
       "      <td>11.400000</td>\n",
       "      <td>6.000000</td>\n",
       "    </tr>\n",
       "    <tr>\n",
       "      <th>max</th>\n",
       "      <td>14.200000</td>\n",
       "      <td>1.100000</td>\n",
       "      <td>1.660000</td>\n",
       "      <td>65.800000</td>\n",
       "      <td>0.346000</td>\n",
       "      <td>289.000000</td>\n",
       "      <td>440.000000</td>\n",
       "      <td>1.038980</td>\n",
       "      <td>3.820000</td>\n",
       "      <td>1.080000</td>\n",
       "      <td>14.200000</td>\n",
       "      <td>9.000000</td>\n",
       "    </tr>\n",
       "  </tbody>\n",
       "</table>\n",
       "</div>"
      ],
      "text/plain": [
       "       fixed acidity  volatile acidity  citric acid  residual sugar  \\\n",
       "count    4898.000000       4898.000000  4898.000000     4898.000000   \n",
       "mean        6.854788          0.278241     0.334192        6.391415   \n",
       "std         0.843868          0.100795     0.121020        5.072058   \n",
       "min         3.800000          0.080000     0.000000        0.600000   \n",
       "25%         6.300000          0.210000     0.270000        1.700000   \n",
       "50%         6.800000          0.260000     0.320000        5.200000   \n",
       "75%         7.300000          0.320000     0.390000        9.900000   \n",
       "max        14.200000          1.100000     1.660000       65.800000   \n",
       "\n",
       "         chlorides  free sulfur dioxide  total sulfur dioxide      density  \\\n",
       "count  4898.000000          4898.000000           4898.000000  4898.000000   \n",
       "mean      0.045772            35.308085            138.360657     0.994027   \n",
       "std       0.021848            17.007137             42.498065     0.002991   \n",
       "min       0.009000             2.000000              9.000000     0.987110   \n",
       "25%       0.036000            23.000000            108.000000     0.991723   \n",
       "50%       0.043000            34.000000            134.000000     0.993740   \n",
       "75%       0.050000            46.000000            167.000000     0.996100   \n",
       "max       0.346000           289.000000            440.000000     1.038980   \n",
       "\n",
       "                pH    sulphates      alcohol      quality  \n",
       "count  4898.000000  4898.000000  4898.000000  4898.000000  \n",
       "mean      3.188267     0.489847    10.514267     5.877909  \n",
       "std       0.151001     0.114126     1.230621     0.885639  \n",
       "min       2.720000     0.220000     8.000000     3.000000  \n",
       "25%       3.090000     0.410000     9.500000     5.000000  \n",
       "50%       3.180000     0.470000    10.400000     6.000000  \n",
       "75%       3.280000     0.550000    11.400000     6.000000  \n",
       "max       3.820000     1.080000    14.200000     9.000000  "
      ]
     },
     "execution_count": 5,
     "metadata": {},
     "output_type": "execute_result"
    }
   ],
   "source": [
    "df.describe()\n"
   ]
  },
  {
   "cell_type": "markdown",
   "id": "95292181",
   "metadata": {
    "papermill": {
     "duration": 0.011273,
     "end_time": "2023-10-07T08:21:36.355471",
     "exception": false,
     "start_time": "2023-10-07T08:21:36.344198",
     "status": "completed"
    },
    "tags": []
   },
   "source": [
    "# Get Column Names\n"
   ]
  },
  {
   "cell_type": "code",
   "execution_count": 6,
   "id": "c8a5de1c",
   "metadata": {
    "execution": {
     "iopub.execute_input": "2023-10-07T08:21:36.441879Z",
     "iopub.status.busy": "2023-10-07T08:21:36.441154Z",
     "iopub.status.idle": "2023-10-07T08:21:36.448246Z",
     "shell.execute_reply": "2023-10-07T08:21:36.447020Z"
    },
    "papermill": {
     "duration": 0.083411,
     "end_time": "2023-10-07T08:21:36.450415",
     "exception": false,
     "start_time": "2023-10-07T08:21:36.367004",
     "status": "completed"
    },
    "tags": []
   },
   "outputs": [
    {
     "data": {
      "text/plain": [
       "Index(['fixed acidity', 'volatile acidity', 'citric acid', 'residual sugar',\n",
       "       'chlorides', 'free sulfur dioxide', 'total sulfur dioxide', 'density',\n",
       "       'pH', 'sulphates', 'alcohol', 'quality'],\n",
       "      dtype='object')"
      ]
     },
     "execution_count": 6,
     "metadata": {},
     "output_type": "execute_result"
    }
   ],
   "source": [
    "df.columns\n"
   ]
  },
  {
   "cell_type": "markdown",
   "id": "f153a8a3",
   "metadata": {
    "papermill": {
     "duration": 0.011232,
     "end_time": "2023-10-07T08:21:36.473958",
     "exception": false,
     "start_time": "2023-10-07T08:21:36.462726",
     "status": "completed"
    },
    "tags": []
   },
   "source": [
    "# Get Shape of DataFrame\n"
   ]
  },
  {
   "cell_type": "code",
   "execution_count": 7,
   "id": "0e92e788",
   "metadata": {
    "execution": {
     "iopub.execute_input": "2023-10-07T08:21:36.498774Z",
     "iopub.status.busy": "2023-10-07T08:21:36.498319Z",
     "iopub.status.idle": "2023-10-07T08:21:36.505903Z",
     "shell.execute_reply": "2023-10-07T08:21:36.504736Z"
    },
    "papermill": {
     "duration": 0.022831,
     "end_time": "2023-10-07T08:21:36.508109",
     "exception": false,
     "start_time": "2023-10-07T08:21:36.485278",
     "status": "completed"
    },
    "tags": []
   },
   "outputs": [
    {
     "data": {
      "text/plain": [
       "(4898, 12)"
      ]
     },
     "execution_count": 7,
     "metadata": {},
     "output_type": "execute_result"
    }
   ],
   "source": [
    "df.shape\n"
   ]
  },
  {
   "cell_type": "markdown",
   "id": "6643a3ee",
   "metadata": {
    "papermill": {
     "duration": 0.011364,
     "end_time": "2023-10-07T08:21:36.531120",
     "exception": false,
     "start_time": "2023-10-07T08:21:36.519756",
     "status": "completed"
    },
    "tags": []
   },
   "source": [
    "# Get Unique Values (Class or Label) y Variable\n"
   ]
  },
  {
   "cell_type": "code",
   "execution_count": 8,
   "id": "55e6ec0d",
   "metadata": {
    "execution": {
     "iopub.execute_input": "2023-10-07T08:21:36.556769Z",
     "iopub.status.busy": "2023-10-07T08:21:36.556020Z",
     "iopub.status.idle": "2023-10-07T08:21:36.563698Z",
     "shell.execute_reply": "2023-10-07T08:21:36.562779Z"
    },
    "papermill": {
     "duration": 0.023209,
     "end_time": "2023-10-07T08:21:36.566012",
     "exception": false,
     "start_time": "2023-10-07T08:21:36.542803",
     "status": "completed"
    },
    "tags": []
   },
   "outputs": [
    {
     "data": {
      "text/plain": [
       "quality\n",
       "6    2198\n",
       "5    1457\n",
       "7     880\n",
       "8     175\n",
       "4     163\n",
       "3      20\n",
       "9       5\n",
       "Name: count, dtype: int64"
      ]
     },
     "execution_count": 8,
     "metadata": {},
     "output_type": "execute_result"
    }
   ],
   "source": [
    "df['quality'].value_counts()\n"
   ]
  },
  {
   "cell_type": "code",
   "execution_count": 9,
   "id": "86b8b215",
   "metadata": {
    "execution": {
     "iopub.execute_input": "2023-10-07T08:21:36.592038Z",
     "iopub.status.busy": "2023-10-07T08:21:36.591588Z",
     "iopub.status.idle": "2023-10-07T08:21:36.619677Z",
     "shell.execute_reply": "2023-10-07T08:21:36.618308Z"
    },
    "papermill": {
     "duration": 0.044272,
     "end_time": "2023-10-07T08:21:36.622305",
     "exception": false,
     "start_time": "2023-10-07T08:21:36.578033",
     "status": "completed"
    },
    "tags": []
   },
   "outputs": [
    {
     "data": {
      "text/html": [
       "<div>\n",
       "<style scoped>\n",
       "    .dataframe tbody tr th:only-of-type {\n",
       "        vertical-align: middle;\n",
       "    }\n",
       "\n",
       "    .dataframe tbody tr th {\n",
       "        vertical-align: top;\n",
       "    }\n",
       "\n",
       "    .dataframe thead th {\n",
       "        text-align: right;\n",
       "    }\n",
       "</style>\n",
       "<table border=\"1\" class=\"dataframe\">\n",
       "  <thead>\n",
       "    <tr style=\"text-align: right;\">\n",
       "      <th></th>\n",
       "      <th>fixed acidity</th>\n",
       "      <th>volatile acidity</th>\n",
       "      <th>citric acid</th>\n",
       "      <th>residual sugar</th>\n",
       "      <th>chlorides</th>\n",
       "      <th>free sulfur dioxide</th>\n",
       "      <th>total sulfur dioxide</th>\n",
       "      <th>density</th>\n",
       "      <th>pH</th>\n",
       "      <th>sulphates</th>\n",
       "      <th>alcohol</th>\n",
       "    </tr>\n",
       "    <tr>\n",
       "      <th>quality</th>\n",
       "      <th></th>\n",
       "      <th></th>\n",
       "      <th></th>\n",
       "      <th></th>\n",
       "      <th></th>\n",
       "      <th></th>\n",
       "      <th></th>\n",
       "      <th></th>\n",
       "      <th></th>\n",
       "      <th></th>\n",
       "      <th></th>\n",
       "    </tr>\n",
       "  </thead>\n",
       "  <tbody>\n",
       "    <tr>\n",
       "      <th>3</th>\n",
       "      <td>7.600000</td>\n",
       "      <td>0.333250</td>\n",
       "      <td>0.336000</td>\n",
       "      <td>6.392500</td>\n",
       "      <td>0.054300</td>\n",
       "      <td>53.325000</td>\n",
       "      <td>170.600000</td>\n",
       "      <td>0.994884</td>\n",
       "      <td>3.187500</td>\n",
       "      <td>0.474500</td>\n",
       "      <td>10.345000</td>\n",
       "    </tr>\n",
       "    <tr>\n",
       "      <th>4</th>\n",
       "      <td>7.129448</td>\n",
       "      <td>0.381227</td>\n",
       "      <td>0.304233</td>\n",
       "      <td>4.628221</td>\n",
       "      <td>0.050098</td>\n",
       "      <td>23.358896</td>\n",
       "      <td>125.279141</td>\n",
       "      <td>0.994277</td>\n",
       "      <td>3.182883</td>\n",
       "      <td>0.476135</td>\n",
       "      <td>10.152454</td>\n",
       "    </tr>\n",
       "    <tr>\n",
       "      <th>5</th>\n",
       "      <td>6.933974</td>\n",
       "      <td>0.302011</td>\n",
       "      <td>0.337653</td>\n",
       "      <td>7.334969</td>\n",
       "      <td>0.051546</td>\n",
       "      <td>36.432052</td>\n",
       "      <td>150.904598</td>\n",
       "      <td>0.995263</td>\n",
       "      <td>3.168833</td>\n",
       "      <td>0.482203</td>\n",
       "      <td>9.808840</td>\n",
       "    </tr>\n",
       "    <tr>\n",
       "      <th>6</th>\n",
       "      <td>6.837671</td>\n",
       "      <td>0.260564</td>\n",
       "      <td>0.338025</td>\n",
       "      <td>6.441606</td>\n",
       "      <td>0.045217</td>\n",
       "      <td>35.650591</td>\n",
       "      <td>137.047316</td>\n",
       "      <td>0.993961</td>\n",
       "      <td>3.188599</td>\n",
       "      <td>0.491106</td>\n",
       "      <td>10.575372</td>\n",
       "    </tr>\n",
       "    <tr>\n",
       "      <th>7</th>\n",
       "      <td>6.734716</td>\n",
       "      <td>0.262767</td>\n",
       "      <td>0.325625</td>\n",
       "      <td>5.186477</td>\n",
       "      <td>0.038191</td>\n",
       "      <td>34.125568</td>\n",
       "      <td>125.114773</td>\n",
       "      <td>0.992452</td>\n",
       "      <td>3.213898</td>\n",
       "      <td>0.503102</td>\n",
       "      <td>11.367936</td>\n",
       "    </tr>\n",
       "    <tr>\n",
       "      <th>8</th>\n",
       "      <td>6.657143</td>\n",
       "      <td>0.277400</td>\n",
       "      <td>0.326514</td>\n",
       "      <td>5.671429</td>\n",
       "      <td>0.038314</td>\n",
       "      <td>36.720000</td>\n",
       "      <td>126.165714</td>\n",
       "      <td>0.992236</td>\n",
       "      <td>3.218686</td>\n",
       "      <td>0.486229</td>\n",
       "      <td>11.636000</td>\n",
       "    </tr>\n",
       "    <tr>\n",
       "      <th>9</th>\n",
       "      <td>7.420000</td>\n",
       "      <td>0.298000</td>\n",
       "      <td>0.386000</td>\n",
       "      <td>4.120000</td>\n",
       "      <td>0.027400</td>\n",
       "      <td>33.400000</td>\n",
       "      <td>116.000000</td>\n",
       "      <td>0.991460</td>\n",
       "      <td>3.308000</td>\n",
       "      <td>0.466000</td>\n",
       "      <td>12.180000</td>\n",
       "    </tr>\n",
       "  </tbody>\n",
       "</table>\n",
       "</div>"
      ],
      "text/plain": [
       "         fixed acidity  volatile acidity  citric acid  residual sugar  \\\n",
       "quality                                                                 \n",
       "3             7.600000          0.333250     0.336000        6.392500   \n",
       "4             7.129448          0.381227     0.304233        4.628221   \n",
       "5             6.933974          0.302011     0.337653        7.334969   \n",
       "6             6.837671          0.260564     0.338025        6.441606   \n",
       "7             6.734716          0.262767     0.325625        5.186477   \n",
       "8             6.657143          0.277400     0.326514        5.671429   \n",
       "9             7.420000          0.298000     0.386000        4.120000   \n",
       "\n",
       "         chlorides  free sulfur dioxide  total sulfur dioxide   density  \\\n",
       "quality                                                                   \n",
       "3         0.054300            53.325000            170.600000  0.994884   \n",
       "4         0.050098            23.358896            125.279141  0.994277   \n",
       "5         0.051546            36.432052            150.904598  0.995263   \n",
       "6         0.045217            35.650591            137.047316  0.993961   \n",
       "7         0.038191            34.125568            125.114773  0.992452   \n",
       "8         0.038314            36.720000            126.165714  0.992236   \n",
       "9         0.027400            33.400000            116.000000  0.991460   \n",
       "\n",
       "               pH  sulphates    alcohol  \n",
       "quality                                  \n",
       "3        3.187500   0.474500  10.345000  \n",
       "4        3.182883   0.476135  10.152454  \n",
       "5        3.168833   0.482203   9.808840  \n",
       "6        3.188599   0.491106  10.575372  \n",
       "7        3.213898   0.503102  11.367936  \n",
       "8        3.218686   0.486229  11.636000  \n",
       "9        3.308000   0.466000  12.180000  "
      ]
     },
     "execution_count": 9,
     "metadata": {},
     "output_type": "execute_result"
    }
   ],
   "source": [
    "df.groupby('quality').mean()\n"
   ]
  },
  {
   "cell_type": "markdown",
   "id": "e0e643c8",
   "metadata": {
    "papermill": {
     "duration": 0.012389,
     "end_time": "2023-10-07T08:21:36.647967",
     "exception": false,
     "start_time": "2023-10-07T08:21:36.635578",
     "status": "completed"
    },
    "tags": []
   },
   "source": [
    "# Define y (dependent or label or target variable) and X (independent of features or attribute variable)\n"
   ]
  },
  {
   "cell_type": "code",
   "execution_count": 10,
   "id": "6b03cbbd",
   "metadata": {
    "execution": {
     "iopub.execute_input": "2023-10-07T08:21:36.677142Z",
     "iopub.status.busy": "2023-10-07T08:21:36.676437Z",
     "iopub.status.idle": "2023-10-07T08:21:36.681557Z",
     "shell.execute_reply": "2023-10-07T08:21:36.680722Z"
    },
    "papermill": {
     "duration": 0.022255,
     "end_time": "2023-10-07T08:21:36.683834",
     "exception": false,
     "start_time": "2023-10-07T08:21:36.661579",
     "status": "completed"
    },
    "tags": []
   },
   "outputs": [],
   "source": [
    "y = df['quality']\n"
   ]
  },
  {
   "cell_type": "code",
   "execution_count": 11,
   "id": "fdea0791",
   "metadata": {
    "execution": {
     "iopub.execute_input": "2023-10-07T08:21:36.711512Z",
     "iopub.status.busy": "2023-10-07T08:21:36.710820Z",
     "iopub.status.idle": "2023-10-07T08:21:36.717548Z",
     "shell.execute_reply": "2023-10-07T08:21:36.716558Z"
    },
    "papermill": {
     "duration": 0.022944,
     "end_time": "2023-10-07T08:21:36.719475",
     "exception": false,
     "start_time": "2023-10-07T08:21:36.696531",
     "status": "completed"
    },
    "tags": []
   },
   "outputs": [
    {
     "data": {
      "text/plain": [
       "(4898,)"
      ]
     },
     "execution_count": 11,
     "metadata": {},
     "output_type": "execute_result"
    }
   ],
   "source": [
    "y.shape"
   ]
  },
  {
   "cell_type": "code",
   "execution_count": 12,
   "id": "dd0cf6ec",
   "metadata": {
    "execution": {
     "iopub.execute_input": "2023-10-07T08:21:36.748486Z",
     "iopub.status.busy": "2023-10-07T08:21:36.747849Z",
     "iopub.status.idle": "2023-10-07T08:21:36.756327Z",
     "shell.execute_reply": "2023-10-07T08:21:36.755256Z"
    },
    "papermill": {
     "duration": 0.025523,
     "end_time": "2023-10-07T08:21:36.758781",
     "exception": false,
     "start_time": "2023-10-07T08:21:36.733258",
     "status": "completed"
    },
    "tags": []
   },
   "outputs": [
    {
     "data": {
      "text/plain": [
       "0       6\n",
       "1       6\n",
       "2       6\n",
       "3       6\n",
       "4       6\n",
       "       ..\n",
       "4893    6\n",
       "4894    5\n",
       "4895    6\n",
       "4896    7\n",
       "4897    6\n",
       "Name: quality, Length: 4898, dtype: int64"
      ]
     },
     "execution_count": 12,
     "metadata": {},
     "output_type": "execute_result"
    }
   ],
   "source": [
    "y"
   ]
  },
  {
   "cell_type": "code",
   "execution_count": 13,
   "id": "a191c37a",
   "metadata": {
    "execution": {
     "iopub.execute_input": "2023-10-07T08:21:36.787317Z",
     "iopub.status.busy": "2023-10-07T08:21:36.786647Z",
     "iopub.status.idle": "2023-10-07T08:21:36.793082Z",
     "shell.execute_reply": "2023-10-07T08:21:36.792252Z"
    },
    "papermill": {
     "duration": 0.023282,
     "end_time": "2023-10-07T08:21:36.795185",
     "exception": false,
     "start_time": "2023-10-07T08:21:36.771903",
     "status": "completed"
    },
    "tags": []
   },
   "outputs": [],
   "source": [
    "x = df[['fixed acidity', 'volatile acidity', 'citric acid', 'residual sugar',\n",
    "       'chlorides', 'free sulfur dioxide', 'total sulfur dioxide', 'density',\n",
    "        'pH', 'sulphates', 'alcohol']]\n"
   ]
  },
  {
   "cell_type": "code",
   "execution_count": 14,
   "id": "8031f6e6",
   "metadata": {
    "execution": {
     "iopub.execute_input": "2023-10-07T08:21:36.822657Z",
     "iopub.status.busy": "2023-10-07T08:21:36.822199Z",
     "iopub.status.idle": "2023-10-07T08:21:36.846553Z",
     "shell.execute_reply": "2023-10-07T08:21:36.845387Z"
    },
    "papermill": {
     "duration": 0.040952,
     "end_time": "2023-10-07T08:21:36.848882",
     "exception": false,
     "start_time": "2023-10-07T08:21:36.807930",
     "status": "completed"
    },
    "tags": []
   },
   "outputs": [
    {
     "data": {
      "text/html": [
       "<div>\n",
       "<style scoped>\n",
       "    .dataframe tbody tr th:only-of-type {\n",
       "        vertical-align: middle;\n",
       "    }\n",
       "\n",
       "    .dataframe tbody tr th {\n",
       "        vertical-align: top;\n",
       "    }\n",
       "\n",
       "    .dataframe thead th {\n",
       "        text-align: right;\n",
       "    }\n",
       "</style>\n",
       "<table border=\"1\" class=\"dataframe\">\n",
       "  <thead>\n",
       "    <tr style=\"text-align: right;\">\n",
       "      <th></th>\n",
       "      <th>fixed acidity</th>\n",
       "      <th>volatile acidity</th>\n",
       "      <th>citric acid</th>\n",
       "      <th>residual sugar</th>\n",
       "      <th>chlorides</th>\n",
       "      <th>free sulfur dioxide</th>\n",
       "      <th>total sulfur dioxide</th>\n",
       "      <th>density</th>\n",
       "      <th>pH</th>\n",
       "      <th>sulphates</th>\n",
       "      <th>alcohol</th>\n",
       "    </tr>\n",
       "  </thead>\n",
       "  <tbody>\n",
       "    <tr>\n",
       "      <th>0</th>\n",
       "      <td>7.0</td>\n",
       "      <td>0.27</td>\n",
       "      <td>0.36</td>\n",
       "      <td>20.7</td>\n",
       "      <td>0.045</td>\n",
       "      <td>45.0</td>\n",
       "      <td>170.0</td>\n",
       "      <td>1.00100</td>\n",
       "      <td>3.00</td>\n",
       "      <td>0.45</td>\n",
       "      <td>8.8</td>\n",
       "    </tr>\n",
       "    <tr>\n",
       "      <th>1</th>\n",
       "      <td>6.3</td>\n",
       "      <td>0.30</td>\n",
       "      <td>0.34</td>\n",
       "      <td>1.6</td>\n",
       "      <td>0.049</td>\n",
       "      <td>14.0</td>\n",
       "      <td>132.0</td>\n",
       "      <td>0.99400</td>\n",
       "      <td>3.30</td>\n",
       "      <td>0.49</td>\n",
       "      <td>9.5</td>\n",
       "    </tr>\n",
       "    <tr>\n",
       "      <th>2</th>\n",
       "      <td>8.1</td>\n",
       "      <td>0.28</td>\n",
       "      <td>0.40</td>\n",
       "      <td>6.9</td>\n",
       "      <td>0.050</td>\n",
       "      <td>30.0</td>\n",
       "      <td>97.0</td>\n",
       "      <td>0.99510</td>\n",
       "      <td>3.26</td>\n",
       "      <td>0.44</td>\n",
       "      <td>10.1</td>\n",
       "    </tr>\n",
       "    <tr>\n",
       "      <th>3</th>\n",
       "      <td>7.2</td>\n",
       "      <td>0.23</td>\n",
       "      <td>0.32</td>\n",
       "      <td>8.5</td>\n",
       "      <td>0.058</td>\n",
       "      <td>47.0</td>\n",
       "      <td>186.0</td>\n",
       "      <td>0.99560</td>\n",
       "      <td>3.19</td>\n",
       "      <td>0.40</td>\n",
       "      <td>9.9</td>\n",
       "    </tr>\n",
       "    <tr>\n",
       "      <th>4</th>\n",
       "      <td>7.2</td>\n",
       "      <td>0.23</td>\n",
       "      <td>0.32</td>\n",
       "      <td>8.5</td>\n",
       "      <td>0.058</td>\n",
       "      <td>47.0</td>\n",
       "      <td>186.0</td>\n",
       "      <td>0.99560</td>\n",
       "      <td>3.19</td>\n",
       "      <td>0.40</td>\n",
       "      <td>9.9</td>\n",
       "    </tr>\n",
       "    <tr>\n",
       "      <th>...</th>\n",
       "      <td>...</td>\n",
       "      <td>...</td>\n",
       "      <td>...</td>\n",
       "      <td>...</td>\n",
       "      <td>...</td>\n",
       "      <td>...</td>\n",
       "      <td>...</td>\n",
       "      <td>...</td>\n",
       "      <td>...</td>\n",
       "      <td>...</td>\n",
       "      <td>...</td>\n",
       "    </tr>\n",
       "    <tr>\n",
       "      <th>4893</th>\n",
       "      <td>6.2</td>\n",
       "      <td>0.21</td>\n",
       "      <td>0.29</td>\n",
       "      <td>1.6</td>\n",
       "      <td>0.039</td>\n",
       "      <td>24.0</td>\n",
       "      <td>92.0</td>\n",
       "      <td>0.99114</td>\n",
       "      <td>3.27</td>\n",
       "      <td>0.50</td>\n",
       "      <td>11.2</td>\n",
       "    </tr>\n",
       "    <tr>\n",
       "      <th>4894</th>\n",
       "      <td>6.6</td>\n",
       "      <td>0.32</td>\n",
       "      <td>0.36</td>\n",
       "      <td>8.0</td>\n",
       "      <td>0.047</td>\n",
       "      <td>57.0</td>\n",
       "      <td>168.0</td>\n",
       "      <td>0.99490</td>\n",
       "      <td>3.15</td>\n",
       "      <td>0.46</td>\n",
       "      <td>9.6</td>\n",
       "    </tr>\n",
       "    <tr>\n",
       "      <th>4895</th>\n",
       "      <td>6.5</td>\n",
       "      <td>0.24</td>\n",
       "      <td>0.19</td>\n",
       "      <td>1.2</td>\n",
       "      <td>0.041</td>\n",
       "      <td>30.0</td>\n",
       "      <td>111.0</td>\n",
       "      <td>0.99254</td>\n",
       "      <td>2.99</td>\n",
       "      <td>0.46</td>\n",
       "      <td>9.4</td>\n",
       "    </tr>\n",
       "    <tr>\n",
       "      <th>4896</th>\n",
       "      <td>5.5</td>\n",
       "      <td>0.29</td>\n",
       "      <td>0.30</td>\n",
       "      <td>1.1</td>\n",
       "      <td>0.022</td>\n",
       "      <td>20.0</td>\n",
       "      <td>110.0</td>\n",
       "      <td>0.98869</td>\n",
       "      <td>3.34</td>\n",
       "      <td>0.38</td>\n",
       "      <td>12.8</td>\n",
       "    </tr>\n",
       "    <tr>\n",
       "      <th>4897</th>\n",
       "      <td>6.0</td>\n",
       "      <td>0.21</td>\n",
       "      <td>0.38</td>\n",
       "      <td>0.8</td>\n",
       "      <td>0.020</td>\n",
       "      <td>22.0</td>\n",
       "      <td>98.0</td>\n",
       "      <td>0.98941</td>\n",
       "      <td>3.26</td>\n",
       "      <td>0.32</td>\n",
       "      <td>11.8</td>\n",
       "    </tr>\n",
       "  </tbody>\n",
       "</table>\n",
       "<p>4898 rows × 11 columns</p>\n",
       "</div>"
      ],
      "text/plain": [
       "      fixed acidity  volatile acidity  citric acid  residual sugar  chlorides  \\\n",
       "0               7.0              0.27         0.36            20.7      0.045   \n",
       "1               6.3              0.30         0.34             1.6      0.049   \n",
       "2               8.1              0.28         0.40             6.9      0.050   \n",
       "3               7.2              0.23         0.32             8.5      0.058   \n",
       "4               7.2              0.23         0.32             8.5      0.058   \n",
       "...             ...               ...          ...             ...        ...   \n",
       "4893            6.2              0.21         0.29             1.6      0.039   \n",
       "4894            6.6              0.32         0.36             8.0      0.047   \n",
       "4895            6.5              0.24         0.19             1.2      0.041   \n",
       "4896            5.5              0.29         0.30             1.1      0.022   \n",
       "4897            6.0              0.21         0.38             0.8      0.020   \n",
       "\n",
       "      free sulfur dioxide  total sulfur dioxide  density    pH  sulphates  \\\n",
       "0                    45.0                 170.0  1.00100  3.00       0.45   \n",
       "1                    14.0                 132.0  0.99400  3.30       0.49   \n",
       "2                    30.0                  97.0  0.99510  3.26       0.44   \n",
       "3                    47.0                 186.0  0.99560  3.19       0.40   \n",
       "4                    47.0                 186.0  0.99560  3.19       0.40   \n",
       "...                   ...                   ...      ...   ...        ...   \n",
       "4893                 24.0                  92.0  0.99114  3.27       0.50   \n",
       "4894                 57.0                 168.0  0.99490  3.15       0.46   \n",
       "4895                 30.0                 111.0  0.99254  2.99       0.46   \n",
       "4896                 20.0                 110.0  0.98869  3.34       0.38   \n",
       "4897                 22.0                  98.0  0.98941  3.26       0.32   \n",
       "\n",
       "      alcohol  \n",
       "0         8.8  \n",
       "1         9.5  \n",
       "2        10.1  \n",
       "3         9.9  \n",
       "4         9.9  \n",
       "...       ...  \n",
       "4893     11.2  \n",
       "4894      9.6  \n",
       "4895      9.4  \n",
       "4896     12.8  \n",
       "4897     11.8  \n",
       "\n",
       "[4898 rows x 11 columns]"
      ]
     },
     "execution_count": 14,
     "metadata": {},
     "output_type": "execute_result"
    }
   ],
   "source": [
    "x\n"
   ]
  },
  {
   "cell_type": "markdown",
   "id": "85bdce90",
   "metadata": {
    "papermill": {
     "duration": 0.012899,
     "end_time": "2023-10-07T08:21:36.875090",
     "exception": false,
     "start_time": "2023-10-07T08:21:36.862191",
     "status": "completed"
    },
    "tags": []
   },
   "source": [
    "# Get X Variables Standardized\n"
   ]
  },
  {
   "cell_type": "code",
   "execution_count": 15,
   "id": "cee3db97",
   "metadata": {
    "execution": {
     "iopub.execute_input": "2023-10-07T08:21:36.907473Z",
     "iopub.status.busy": "2023-10-07T08:21:36.907027Z",
     "iopub.status.idle": "2023-10-07T08:21:38.187879Z",
     "shell.execute_reply": "2023-10-07T08:21:38.186612Z"
    },
    "papermill": {
     "duration": 1.2987,
     "end_time": "2023-10-07T08:21:38.190888",
     "exception": false,
     "start_time": "2023-10-07T08:21:36.892188",
     "status": "completed"
    },
    "tags": []
   },
   "outputs": [],
   "source": [
    "from sklearn.preprocessing import StandardScaler\n"
   ]
  },
  {
   "cell_type": "code",
   "execution_count": 16,
   "id": "735b32c1",
   "metadata": {
    "execution": {
     "iopub.execute_input": "2023-10-07T08:21:38.221659Z",
     "iopub.status.busy": "2023-10-07T08:21:38.221156Z",
     "iopub.status.idle": "2023-10-07T08:21:38.225947Z",
     "shell.execute_reply": "2023-10-07T08:21:38.225062Z"
    },
    "papermill": {
     "duration": 0.023105,
     "end_time": "2023-10-07T08:21:38.228006",
     "exception": false,
     "start_time": "2023-10-07T08:21:38.204901",
     "status": "completed"
    },
    "tags": []
   },
   "outputs": [],
   "source": [
    "ss = StandardScaler()\n"
   ]
  },
  {
   "cell_type": "code",
   "execution_count": 17,
   "id": "fd597536",
   "metadata": {
    "execution": {
     "iopub.execute_input": "2023-10-07T08:21:38.258086Z",
     "iopub.status.busy": "2023-10-07T08:21:38.256957Z",
     "iopub.status.idle": "2023-10-07T08:21:38.268122Z",
     "shell.execute_reply": "2023-10-07T08:21:38.266902Z"
    },
    "papermill": {
     "duration": 0.028442,
     "end_time": "2023-10-07T08:21:38.270476",
     "exception": false,
     "start_time": "2023-10-07T08:21:38.242034",
     "status": "completed"
    },
    "tags": []
   },
   "outputs": [],
   "source": [
    "X = ss.fit_transform(x)\n"
   ]
  },
  {
   "cell_type": "code",
   "execution_count": 18,
   "id": "7436a7a9",
   "metadata": {
    "execution": {
     "iopub.execute_input": "2023-10-07T08:21:38.297540Z",
     "iopub.status.busy": "2023-10-07T08:21:38.297084Z",
     "iopub.status.idle": "2023-10-07T08:21:38.307689Z",
     "shell.execute_reply": "2023-10-07T08:21:38.306558Z"
    },
    "papermill": {
     "duration": 0.026606,
     "end_time": "2023-10-07T08:21:38.309771",
     "exception": false,
     "start_time": "2023-10-07T08:21:38.283165",
     "status": "completed"
    },
    "tags": []
   },
   "outputs": [
    {
     "data": {
      "text/plain": [
       "array([[ 1.72096961e-01, -8.17699008e-02,  2.13280202e-01, ...,\n",
       "        -1.24692128e+00, -3.49184257e-01, -1.39315246e+00],\n",
       "       [-6.57501128e-01,  2.15895632e-01,  4.80011213e-02, ...,\n",
       "         7.40028640e-01,  1.34184656e-03, -8.24275678e-01],\n",
       "       [ 1.47575110e+00,  1.74519434e-02,  5.43838363e-01, ...,\n",
       "         4.75101984e-01, -4.36815783e-01, -3.36667007e-01],\n",
       "       ...,\n",
       "       [-4.20473102e-01, -3.79435433e-01, -1.19159198e+00, ...,\n",
       "        -1.31315295e+00, -2.61552731e-01, -9.05543789e-01],\n",
       "       [-1.60561323e+00,  1.16673788e-01, -2.82557040e-01, ...,\n",
       "         1.00495530e+00, -9.62604939e-01,  1.85757201e+00],\n",
       "       [-1.01304317e+00, -6.77100966e-01,  3.78559282e-01, ...,\n",
       "         4.75101984e-01, -1.48839409e+00,  1.04489089e+00]])"
      ]
     },
     "execution_count": 18,
     "metadata": {},
     "output_type": "execute_result"
    }
   ],
   "source": [
    "X\n"
   ]
  },
  {
   "cell_type": "markdown",
   "id": "16271138",
   "metadata": {
    "papermill": {
     "duration": 0.013198,
     "end_time": "2023-10-07T08:21:38.336049",
     "exception": false,
     "start_time": "2023-10-07T08:21:38.322851",
     "status": "completed"
    },
    "tags": []
   },
   "source": [
    "# Get Train Test Split\n"
   ]
  },
  {
   "cell_type": "code",
   "execution_count": 19,
   "id": "34113968",
   "metadata": {
    "execution": {
     "iopub.execute_input": "2023-10-07T08:21:38.364252Z",
     "iopub.status.busy": "2023-10-07T08:21:38.363004Z",
     "iopub.status.idle": "2023-10-07T08:21:38.505413Z",
     "shell.execute_reply": "2023-10-07T08:21:38.504128Z"
    },
    "papermill": {
     "duration": 0.15937,
     "end_time": "2023-10-07T08:21:38.508265",
     "exception": false,
     "start_time": "2023-10-07T08:21:38.348895",
     "status": "completed"
    },
    "tags": []
   },
   "outputs": [],
   "source": [
    "from sklearn.model_selection import train_test_split\n"
   ]
  },
  {
   "cell_type": "code",
   "execution_count": 20,
   "id": "dd546e71",
   "metadata": {
    "execution": {
     "iopub.execute_input": "2023-10-07T08:21:38.535823Z",
     "iopub.status.busy": "2023-10-07T08:21:38.535325Z",
     "iopub.status.idle": "2023-10-07T08:21:38.546929Z",
     "shell.execute_reply": "2023-10-07T08:21:38.545591Z"
    },
    "papermill": {
     "duration": 0.028636,
     "end_time": "2023-10-07T08:21:38.549577",
     "exception": false,
     "start_time": "2023-10-07T08:21:38.520941",
     "status": "completed"
    },
    "tags": []
   },
   "outputs": [],
   "source": [
    "X_train, X_test, y_train, y_test = train_test_split(\n",
    "    X, y, test_size=0.3, stratify=y, random_state=2529)\n"
   ]
  },
  {
   "cell_type": "code",
   "execution_count": 21,
   "id": "832c08b9",
   "metadata": {
    "execution": {
     "iopub.execute_input": "2023-10-07T08:21:38.578588Z",
     "iopub.status.busy": "2023-10-07T08:21:38.578158Z",
     "iopub.status.idle": "2023-10-07T08:21:38.583926Z",
     "shell.execute_reply": "2023-10-07T08:21:38.583023Z"
    },
    "papermill": {
     "duration": 0.023098,
     "end_time": "2023-10-07T08:21:38.585813",
     "exception": false,
     "start_time": "2023-10-07T08:21:38.562715",
     "status": "completed"
    },
    "tags": []
   },
   "outputs": [
    {
     "data": {
      "text/plain": [
       "((3428, 11), (1470, 11), (3428,), (1470,))"
      ]
     },
     "execution_count": 21,
     "metadata": {},
     "output_type": "execute_result"
    }
   ],
   "source": [
    "X_train.shape, X_test.shape, y_train.shape, y_test.shape"
   ]
  },
  {
   "cell_type": "markdown",
   "id": "0a840e21",
   "metadata": {
    "papermill": {
     "duration": 0.012433,
     "end_time": "2023-10-07T08:21:38.611071",
     "exception": false,
     "start_time": "2023-10-07T08:21:38.598638",
     "status": "completed"
    },
    "tags": []
   },
   "source": [
    "# Get Model Train\n"
   ]
  },
  {
   "cell_type": "code",
   "execution_count": 22,
   "id": "8c4e6028",
   "metadata": {
    "execution": {
     "iopub.execute_input": "2023-10-07T08:21:38.639558Z",
     "iopub.status.busy": "2023-10-07T08:21:38.638878Z",
     "iopub.status.idle": "2023-10-07T08:21:38.894258Z",
     "shell.execute_reply": "2023-10-07T08:21:38.892975Z"
    },
    "papermill": {
     "duration": 0.272976,
     "end_time": "2023-10-07T08:21:38.896917",
     "exception": false,
     "start_time": "2023-10-07T08:21:38.623941",
     "status": "completed"
    },
    "tags": []
   },
   "outputs": [],
   "source": [
    "from sklearn.svm import SVC"
   ]
  },
  {
   "cell_type": "code",
   "execution_count": 23,
   "id": "73d10d47",
   "metadata": {
    "execution": {
     "iopub.execute_input": "2023-10-07T08:21:38.925372Z",
     "iopub.status.busy": "2023-10-07T08:21:38.924936Z",
     "iopub.status.idle": "2023-10-07T08:21:38.930174Z",
     "shell.execute_reply": "2023-10-07T08:21:38.928720Z"
    },
    "papermill": {
     "duration": 0.02213,
     "end_time": "2023-10-07T08:21:38.932558",
     "exception": false,
     "start_time": "2023-10-07T08:21:38.910428",
     "status": "completed"
    },
    "tags": []
   },
   "outputs": [],
   "source": [
    "svc = SVC()"
   ]
  },
  {
   "cell_type": "code",
   "execution_count": 24,
   "id": "48588566",
   "metadata": {
    "execution": {
     "iopub.execute_input": "2023-10-07T08:21:38.961982Z",
     "iopub.status.busy": "2023-10-07T08:21:38.961148Z",
     "iopub.status.idle": "2023-10-07T08:21:39.634744Z",
     "shell.execute_reply": "2023-10-07T08:21:39.633907Z"
    },
    "papermill": {
     "duration": 0.690694,
     "end_time": "2023-10-07T08:21:39.636760",
     "exception": false,
     "start_time": "2023-10-07T08:21:38.946066",
     "status": "completed"
    },
    "tags": []
   },
   "outputs": [
    {
     "data": {
      "text/html": [
       "<style>#sk-container-id-1 {color: black;background-color: white;}#sk-container-id-1 pre{padding: 0;}#sk-container-id-1 div.sk-toggleable {background-color: white;}#sk-container-id-1 label.sk-toggleable__label {cursor: pointer;display: block;width: 100%;margin-bottom: 0;padding: 0.3em;box-sizing: border-box;text-align: center;}#sk-container-id-1 label.sk-toggleable__label-arrow:before {content: \"▸\";float: left;margin-right: 0.25em;color: #696969;}#sk-container-id-1 label.sk-toggleable__label-arrow:hover:before {color: black;}#sk-container-id-1 div.sk-estimator:hover label.sk-toggleable__label-arrow:before {color: black;}#sk-container-id-1 div.sk-toggleable__content {max-height: 0;max-width: 0;overflow: hidden;text-align: left;background-color: #f0f8ff;}#sk-container-id-1 div.sk-toggleable__content pre {margin: 0.2em;color: black;border-radius: 0.25em;background-color: #f0f8ff;}#sk-container-id-1 input.sk-toggleable__control:checked~div.sk-toggleable__content {max-height: 200px;max-width: 100%;overflow: auto;}#sk-container-id-1 input.sk-toggleable__control:checked~label.sk-toggleable__label-arrow:before {content: \"▾\";}#sk-container-id-1 div.sk-estimator input.sk-toggleable__control:checked~label.sk-toggleable__label {background-color: #d4ebff;}#sk-container-id-1 div.sk-label input.sk-toggleable__control:checked~label.sk-toggleable__label {background-color: #d4ebff;}#sk-container-id-1 input.sk-hidden--visually {border: 0;clip: rect(1px 1px 1px 1px);clip: rect(1px, 1px, 1px, 1px);height: 1px;margin: -1px;overflow: hidden;padding: 0;position: absolute;width: 1px;}#sk-container-id-1 div.sk-estimator {font-family: monospace;background-color: #f0f8ff;border: 1px dotted black;border-radius: 0.25em;box-sizing: border-box;margin-bottom: 0.5em;}#sk-container-id-1 div.sk-estimator:hover {background-color: #d4ebff;}#sk-container-id-1 div.sk-parallel-item::after {content: \"\";width: 100%;border-bottom: 1px solid gray;flex-grow: 1;}#sk-container-id-1 div.sk-label:hover label.sk-toggleable__label {background-color: #d4ebff;}#sk-container-id-1 div.sk-serial::before {content: \"\";position: absolute;border-left: 1px solid gray;box-sizing: border-box;top: 0;bottom: 0;left: 50%;z-index: 0;}#sk-container-id-1 div.sk-serial {display: flex;flex-direction: column;align-items: center;background-color: white;padding-right: 0.2em;padding-left: 0.2em;position: relative;}#sk-container-id-1 div.sk-item {position: relative;z-index: 1;}#sk-container-id-1 div.sk-parallel {display: flex;align-items: stretch;justify-content: center;background-color: white;position: relative;}#sk-container-id-1 div.sk-item::before, #sk-container-id-1 div.sk-parallel-item::before {content: \"\";position: absolute;border-left: 1px solid gray;box-sizing: border-box;top: 0;bottom: 0;left: 50%;z-index: -1;}#sk-container-id-1 div.sk-parallel-item {display: flex;flex-direction: column;z-index: 1;position: relative;background-color: white;}#sk-container-id-1 div.sk-parallel-item:first-child::after {align-self: flex-end;width: 50%;}#sk-container-id-1 div.sk-parallel-item:last-child::after {align-self: flex-start;width: 50%;}#sk-container-id-1 div.sk-parallel-item:only-child::after {width: 0;}#sk-container-id-1 div.sk-dashed-wrapped {border: 1px dashed gray;margin: 0 0.4em 0.5em 0.4em;box-sizing: border-box;padding-bottom: 0.4em;background-color: white;}#sk-container-id-1 div.sk-label label {font-family: monospace;font-weight: bold;display: inline-block;line-height: 1.2em;}#sk-container-id-1 div.sk-label-container {text-align: center;}#sk-container-id-1 div.sk-container {/* jupyter's `normalize.less` sets `[hidden] { display: none; }` but bootstrap.min.css set `[hidden] { display: none !important; }` so we also need the `!important` here to be able to override the default hidden behavior on the sphinx rendered scikit-learn.org. See: https://github.com/scikit-learn/scikit-learn/issues/21755 */display: inline-block !important;position: relative;}#sk-container-id-1 div.sk-text-repr-fallback {display: none;}</style><div id=\"sk-container-id-1\" class=\"sk-top-container\"><div class=\"sk-text-repr-fallback\"><pre>SVC()</pre><b>In a Jupyter environment, please rerun this cell to show the HTML representation or trust the notebook. <br />On GitHub, the HTML representation is unable to render, please try loading this page with nbviewer.org.</b></div><div class=\"sk-container\" hidden><div class=\"sk-item\"><div class=\"sk-estimator sk-toggleable\"><input class=\"sk-toggleable__control sk-hidden--visually\" id=\"sk-estimator-id-1\" type=\"checkbox\" checked><label for=\"sk-estimator-id-1\" class=\"sk-toggleable__label sk-toggleable__label-arrow\">SVC</label><div class=\"sk-toggleable__content\"><pre>SVC()</pre></div></div></div></div></div>"
      ],
      "text/plain": [
       "SVC()"
      ]
     },
     "execution_count": 24,
     "metadata": {},
     "output_type": "execute_result"
    }
   ],
   "source": [
    "svc.fit(X_train, y_train)"
   ]
  },
  {
   "cell_type": "markdown",
   "id": "c5d3acf2",
   "metadata": {
    "papermill": {
     "duration": 0.013211,
     "end_time": "2023-10-07T08:21:39.664165",
     "exception": false,
     "start_time": "2023-10-07T08:21:39.650954",
     "status": "completed"
    },
    "tags": []
   },
   "source": [
    "# Get Model Prediction\n"
   ]
  },
  {
   "cell_type": "code",
   "execution_count": 25,
   "id": "5ba1e3ab",
   "metadata": {
    "execution": {
     "iopub.execute_input": "2023-10-07T08:21:39.695379Z",
     "iopub.status.busy": "2023-10-07T08:21:39.694184Z",
     "iopub.status.idle": "2023-10-07T08:21:39.995976Z",
     "shell.execute_reply": "2023-10-07T08:21:39.994936Z"
    },
    "papermill": {
     "duration": 0.32065,
     "end_time": "2023-10-07T08:21:39.998762",
     "exception": false,
     "start_time": "2023-10-07T08:21:39.678112",
     "status": "completed"
    },
    "tags": []
   },
   "outputs": [],
   "source": [
    "y_pred = svc.predict(X_test)"
   ]
  },
  {
   "cell_type": "code",
   "execution_count": 26,
   "id": "c6aeb91c",
   "metadata": {
    "execution": {
     "iopub.execute_input": "2023-10-07T08:21:40.029227Z",
     "iopub.status.busy": "2023-10-07T08:21:40.028842Z",
     "iopub.status.idle": "2023-10-07T08:21:40.035342Z",
     "shell.execute_reply": "2023-10-07T08:21:40.033866Z"
    },
    "papermill": {
     "duration": 0.025179,
     "end_time": "2023-10-07T08:21:40.037994",
     "exception": false,
     "start_time": "2023-10-07T08:21:40.012815",
     "status": "completed"
    },
    "tags": []
   },
   "outputs": [
    {
     "data": {
      "text/plain": [
       "(1470,)"
      ]
     },
     "execution_count": 26,
     "metadata": {},
     "output_type": "execute_result"
    }
   ],
   "source": [
    "y_pred.shape"
   ]
  },
  {
   "cell_type": "code",
   "execution_count": 27,
   "id": "472440b6",
   "metadata": {
    "execution": {
     "iopub.execute_input": "2023-10-07T08:21:40.069567Z",
     "iopub.status.busy": "2023-10-07T08:21:40.069140Z",
     "iopub.status.idle": "2023-10-07T08:21:40.075902Z",
     "shell.execute_reply": "2023-10-07T08:21:40.074952Z"
    },
    "papermill": {
     "duration": 0.025572,
     "end_time": "2023-10-07T08:21:40.078110",
     "exception": false,
     "start_time": "2023-10-07T08:21:40.052538",
     "status": "completed"
    },
    "tags": []
   },
   "outputs": [
    {
     "data": {
      "text/plain": [
       "array([5, 7, 5, ..., 5, 5, 5])"
      ]
     },
     "execution_count": 27,
     "metadata": {},
     "output_type": "execute_result"
    }
   ],
   "source": [
    "y_pred"
   ]
  },
  {
   "cell_type": "markdown",
   "id": "c29f027e",
   "metadata": {
    "papermill": {
     "duration": 0.016058,
     "end_time": "2023-10-07T08:21:40.109422",
     "exception": false,
     "start_time": "2023-10-07T08:21:40.093364",
     "status": "completed"
    },
    "tags": []
   },
   "source": [
    "# Get Model Evaluation\n"
   ]
  },
  {
   "cell_type": "code",
   "execution_count": 28,
   "id": "3a342b42",
   "metadata": {
    "execution": {
     "iopub.execute_input": "2023-10-07T08:21:40.141301Z",
     "iopub.status.busy": "2023-10-07T08:21:40.140925Z",
     "iopub.status.idle": "2023-10-07T08:21:40.146735Z",
     "shell.execute_reply": "2023-10-07T08:21:40.145172Z"
    },
    "papermill": {
     "duration": 0.024683,
     "end_time": "2023-10-07T08:21:40.149152",
     "exception": false,
     "start_time": "2023-10-07T08:21:40.124469",
     "status": "completed"
    },
    "tags": []
   },
   "outputs": [],
   "source": [
    "from sklearn.metrics import confusion_matrix, classification_report"
   ]
  },
  {
   "cell_type": "code",
   "execution_count": 29,
   "id": "348f9f08",
   "metadata": {
    "execution": {
     "iopub.execute_input": "2023-10-07T08:21:40.181886Z",
     "iopub.status.busy": "2023-10-07T08:21:40.181137Z",
     "iopub.status.idle": "2023-10-07T08:21:40.189046Z",
     "shell.execute_reply": "2023-10-07T08:21:40.187999Z"
    },
    "papermill": {
     "duration": 0.028036,
     "end_time": "2023-10-07T08:21:40.192141",
     "exception": false,
     "start_time": "2023-10-07T08:21:40.164105",
     "status": "completed"
    },
    "tags": []
   },
   "outputs": [
    {
     "name": "stdout",
     "output_type": "stream",
     "text": [
      "[[  0   0   1   5   0   0   0]\n",
      " [  0   2  25  22   0   0   0]\n",
      " [  0   3 273 160   1   0   0]\n",
      " [  0   0 122 515  23   0   0]\n",
      " [  0   0   6 191  67   0   0]\n",
      " [  0   0   0  39  14   0   0]\n",
      " [  0   0   0   0   1   0   0]]\n"
     ]
    }
   ],
   "source": [
    "print(confusion_matrix(y_test, y_pred))"
   ]
  },
  {
   "cell_type": "code",
   "execution_count": 30,
   "id": "a87ee5e9",
   "metadata": {
    "execution": {
     "iopub.execute_input": "2023-10-07T08:21:40.224355Z",
     "iopub.status.busy": "2023-10-07T08:21:40.223736Z",
     "iopub.status.idle": "2023-10-07T08:21:40.241095Z",
     "shell.execute_reply": "2023-10-07T08:21:40.240299Z"
    },
    "papermill": {
     "duration": 0.037214,
     "end_time": "2023-10-07T08:21:40.244543",
     "exception": false,
     "start_time": "2023-10-07T08:21:40.207329",
     "status": "completed"
    },
    "tags": []
   },
   "outputs": [
    {
     "name": "stdout",
     "output_type": "stream",
     "text": [
      "              precision    recall  f1-score   support\n",
      "\n",
      "           3       0.00      0.00      0.00         6\n",
      "           4       0.40      0.04      0.07        49\n",
      "           5       0.64      0.62      0.63       437\n",
      "           6       0.55      0.78      0.65       660\n",
      "           7       0.63      0.25      0.36       264\n",
      "           8       0.00      0.00      0.00        53\n",
      "           9       0.00      0.00      0.00         1\n",
      "\n",
      "    accuracy                           0.58      1470\n",
      "   macro avg       0.32      0.24      0.25      1470\n",
      "weighted avg       0.57      0.58      0.55      1470\n",
      "\n"
     ]
    },
    {
     "name": "stderr",
     "output_type": "stream",
     "text": [
      "/opt/conda/lib/python3.10/site-packages/sklearn/metrics/_classification.py:1344: UndefinedMetricWarning: Precision and F-score are ill-defined and being set to 0.0 in labels with no predicted samples. Use `zero_division` parameter to control this behavior.\n",
      "  _warn_prf(average, modifier, msg_start, len(result))\n",
      "/opt/conda/lib/python3.10/site-packages/sklearn/metrics/_classification.py:1344: UndefinedMetricWarning: Precision and F-score are ill-defined and being set to 0.0 in labels with no predicted samples. Use `zero_division` parameter to control this behavior.\n",
      "  _warn_prf(average, modifier, msg_start, len(result))\n",
      "/opt/conda/lib/python3.10/site-packages/sklearn/metrics/_classification.py:1344: UndefinedMetricWarning: Precision and F-score are ill-defined and being set to 0.0 in labels with no predicted samples. Use `zero_division` parameter to control this behavior.\n",
      "  _warn_prf(average, modifier, msg_start, len(result))\n"
     ]
    }
   ],
   "source": [
    "print(classification_report(y_test, y_pred))"
   ]
  },
  {
   "cell_type": "markdown",
   "id": "1fe5019a",
   "metadata": {
    "papermill": {
     "duration": 0.014096,
     "end_time": "2023-10-07T08:21:40.272756",
     "exception": false,
     "start_time": "2023-10-07T08:21:40.258660",
     "status": "completed"
    },
    "tags": []
   },
   "source": [
    "# Get Model Re-run wit Two Class Created for Wine Quality>\n"
   ]
  },
  {
   "cell_type": "code",
   "execution_count": 31,
   "id": "413e0949",
   "metadata": {
    "execution": {
     "iopub.execute_input": "2023-10-07T08:21:40.303775Z",
     "iopub.status.busy": "2023-10-07T08:21:40.303332Z",
     "iopub.status.idle": "2023-10-07T08:21:40.311449Z",
     "shell.execute_reply": "2023-10-07T08:21:40.310127Z"
    },
    "papermill": {
     "duration": 0.025645,
     "end_time": "2023-10-07T08:21:40.313650",
     "exception": false,
     "start_time": "2023-10-07T08:21:40.288005",
     "status": "completed"
    },
    "tags": []
   },
   "outputs": [],
   "source": [
    "y = df['quality'].apply(lambda y_value: 1 if y_value >= 6 else 0)\n"
   ]
  },
  {
   "cell_type": "markdown",
   "id": "83bd0237",
   "metadata": {
    "papermill": {
     "duration": 0.013105,
     "end_time": "2023-10-07T08:21:40.340182",
     "exception": false,
     "start_time": "2023-10-07T08:21:40.327077",
     "status": "completed"
    },
    "tags": []
   },
   "source": [
    "# Get Train Test Split\n"
   ]
  },
  {
   "cell_type": "code",
   "execution_count": 32,
   "id": "22bdfaa1",
   "metadata": {
    "execution": {
     "iopub.execute_input": "2023-10-07T08:21:40.368930Z",
     "iopub.status.busy": "2023-10-07T08:21:40.368206Z",
     "iopub.status.idle": "2023-10-07T08:21:40.373318Z",
     "shell.execute_reply": "2023-10-07T08:21:40.372219Z"
    },
    "papermill": {
     "duration": 0.021809,
     "end_time": "2023-10-07T08:21:40.375341",
     "exception": false,
     "start_time": "2023-10-07T08:21:40.353532",
     "status": "completed"
    },
    "tags": []
   },
   "outputs": [],
   "source": [
    "from sklearn.model_selection import train_test_split"
   ]
  },
  {
   "cell_type": "code",
   "execution_count": 33,
   "id": "f793454b",
   "metadata": {
    "execution": {
     "iopub.execute_input": "2023-10-07T08:21:40.404581Z",
     "iopub.status.busy": "2023-10-07T08:21:40.404158Z",
     "iopub.status.idle": "2023-10-07T08:21:40.413597Z",
     "shell.execute_reply": "2023-10-07T08:21:40.412627Z"
    },
    "papermill": {
     "duration": 0.026666,
     "end_time": "2023-10-07T08:21:40.415680",
     "exception": false,
     "start_time": "2023-10-07T08:21:40.389014",
     "status": "completed"
    },
    "tags": []
   },
   "outputs": [],
   "source": [
    "X_train, X_test, y_train, y_test = train_test_split(\n",
    "    X, y, test_size=0.3, stratify=y, random_state=2529)\n"
   ]
  },
  {
   "cell_type": "code",
   "execution_count": 34,
   "id": "3e295fb2",
   "metadata": {
    "execution": {
     "iopub.execute_input": "2023-10-07T08:21:40.445162Z",
     "iopub.status.busy": "2023-10-07T08:21:40.444133Z",
     "iopub.status.idle": "2023-10-07T08:21:40.452010Z",
     "shell.execute_reply": "2023-10-07T08:21:40.450903Z"
    },
    "papermill": {
     "duration": 0.024952,
     "end_time": "2023-10-07T08:21:40.454073",
     "exception": false,
     "start_time": "2023-10-07T08:21:40.429121",
     "status": "completed"
    },
    "tags": []
   },
   "outputs": [
    {
     "data": {
      "text/plain": [
       "((3428, 11), (1470, 11), (3428,), (1470,))"
      ]
     },
     "execution_count": 34,
     "metadata": {},
     "output_type": "execute_result"
    }
   ],
   "source": [
    "X_train.shape, X_test.shape, y_train.shape, y_test.shape"
   ]
  },
  {
   "cell_type": "markdown",
   "id": "0fadb205",
   "metadata": {
    "papermill": {
     "duration": 0.013363,
     "end_time": "2023-10-07T08:21:40.481539",
     "exception": false,
     "start_time": "2023-10-07T08:21:40.468176",
     "status": "completed"
    },
    "tags": []
   },
   "source": [
    "# Get Mode lTrain\n"
   ]
  },
  {
   "cell_type": "code",
   "execution_count": 35,
   "id": "d5e2e922",
   "metadata": {
    "execution": {
     "iopub.execute_input": "2023-10-07T08:21:40.511971Z",
     "iopub.status.busy": "2023-10-07T08:21:40.511044Z",
     "iopub.status.idle": "2023-10-07T08:21:40.516062Z",
     "shell.execute_reply": "2023-10-07T08:21:40.514611Z"
    },
    "papermill": {
     "duration": 0.022583,
     "end_time": "2023-10-07T08:21:40.518701",
     "exception": false,
     "start_time": "2023-10-07T08:21:40.496118",
     "status": "completed"
    },
    "tags": []
   },
   "outputs": [],
   "source": [
    "from sklearn.svm import SVC"
   ]
  },
  {
   "cell_type": "code",
   "execution_count": 36,
   "id": "240aaedc",
   "metadata": {
    "execution": {
     "iopub.execute_input": "2023-10-07T08:21:40.547730Z",
     "iopub.status.busy": "2023-10-07T08:21:40.547343Z",
     "iopub.status.idle": "2023-10-07T08:21:40.552369Z",
     "shell.execute_reply": "2023-10-07T08:21:40.551000Z"
    },
    "papermill": {
     "duration": 0.022195,
     "end_time": "2023-10-07T08:21:40.554681",
     "exception": false,
     "start_time": "2023-10-07T08:21:40.532486",
     "status": "completed"
    },
    "tags": []
   },
   "outputs": [],
   "source": [
    "svc = SVC()"
   ]
  },
  {
   "cell_type": "code",
   "execution_count": 37,
   "id": "936673fd",
   "metadata": {
    "execution": {
     "iopub.execute_input": "2023-10-07T08:21:40.583884Z",
     "iopub.status.busy": "2023-10-07T08:21:40.583369Z",
     "iopub.status.idle": "2023-10-07T08:21:41.004692Z",
     "shell.execute_reply": "2023-10-07T08:21:41.003621Z"
    },
    "papermill": {
     "duration": 0.438927,
     "end_time": "2023-10-07T08:21:41.007241",
     "exception": false,
     "start_time": "2023-10-07T08:21:40.568314",
     "status": "completed"
    },
    "tags": []
   },
   "outputs": [
    {
     "data": {
      "text/html": [
       "<style>#sk-container-id-2 {color: black;background-color: white;}#sk-container-id-2 pre{padding: 0;}#sk-container-id-2 div.sk-toggleable {background-color: white;}#sk-container-id-2 label.sk-toggleable__label {cursor: pointer;display: block;width: 100%;margin-bottom: 0;padding: 0.3em;box-sizing: border-box;text-align: center;}#sk-container-id-2 label.sk-toggleable__label-arrow:before {content: \"▸\";float: left;margin-right: 0.25em;color: #696969;}#sk-container-id-2 label.sk-toggleable__label-arrow:hover:before {color: black;}#sk-container-id-2 div.sk-estimator:hover label.sk-toggleable__label-arrow:before {color: black;}#sk-container-id-2 div.sk-toggleable__content {max-height: 0;max-width: 0;overflow: hidden;text-align: left;background-color: #f0f8ff;}#sk-container-id-2 div.sk-toggleable__content pre {margin: 0.2em;color: black;border-radius: 0.25em;background-color: #f0f8ff;}#sk-container-id-2 input.sk-toggleable__control:checked~div.sk-toggleable__content {max-height: 200px;max-width: 100%;overflow: auto;}#sk-container-id-2 input.sk-toggleable__control:checked~label.sk-toggleable__label-arrow:before {content: \"▾\";}#sk-container-id-2 div.sk-estimator input.sk-toggleable__control:checked~label.sk-toggleable__label {background-color: #d4ebff;}#sk-container-id-2 div.sk-label input.sk-toggleable__control:checked~label.sk-toggleable__label {background-color: #d4ebff;}#sk-container-id-2 input.sk-hidden--visually {border: 0;clip: rect(1px 1px 1px 1px);clip: rect(1px, 1px, 1px, 1px);height: 1px;margin: -1px;overflow: hidden;padding: 0;position: absolute;width: 1px;}#sk-container-id-2 div.sk-estimator {font-family: monospace;background-color: #f0f8ff;border: 1px dotted black;border-radius: 0.25em;box-sizing: border-box;margin-bottom: 0.5em;}#sk-container-id-2 div.sk-estimator:hover {background-color: #d4ebff;}#sk-container-id-2 div.sk-parallel-item::after {content: \"\";width: 100%;border-bottom: 1px solid gray;flex-grow: 1;}#sk-container-id-2 div.sk-label:hover label.sk-toggleable__label {background-color: #d4ebff;}#sk-container-id-2 div.sk-serial::before {content: \"\";position: absolute;border-left: 1px solid gray;box-sizing: border-box;top: 0;bottom: 0;left: 50%;z-index: 0;}#sk-container-id-2 div.sk-serial {display: flex;flex-direction: column;align-items: center;background-color: white;padding-right: 0.2em;padding-left: 0.2em;position: relative;}#sk-container-id-2 div.sk-item {position: relative;z-index: 1;}#sk-container-id-2 div.sk-parallel {display: flex;align-items: stretch;justify-content: center;background-color: white;position: relative;}#sk-container-id-2 div.sk-item::before, #sk-container-id-2 div.sk-parallel-item::before {content: \"\";position: absolute;border-left: 1px solid gray;box-sizing: border-box;top: 0;bottom: 0;left: 50%;z-index: -1;}#sk-container-id-2 div.sk-parallel-item {display: flex;flex-direction: column;z-index: 1;position: relative;background-color: white;}#sk-container-id-2 div.sk-parallel-item:first-child::after {align-self: flex-end;width: 50%;}#sk-container-id-2 div.sk-parallel-item:last-child::after {align-self: flex-start;width: 50%;}#sk-container-id-2 div.sk-parallel-item:only-child::after {width: 0;}#sk-container-id-2 div.sk-dashed-wrapped {border: 1px dashed gray;margin: 0 0.4em 0.5em 0.4em;box-sizing: border-box;padding-bottom: 0.4em;background-color: white;}#sk-container-id-2 div.sk-label label {font-family: monospace;font-weight: bold;display: inline-block;line-height: 1.2em;}#sk-container-id-2 div.sk-label-container {text-align: center;}#sk-container-id-2 div.sk-container {/* jupyter's `normalize.less` sets `[hidden] { display: none; }` but bootstrap.min.css set `[hidden] { display: none !important; }` so we also need the `!important` here to be able to override the default hidden behavior on the sphinx rendered scikit-learn.org. See: https://github.com/scikit-learn/scikit-learn/issues/21755 */display: inline-block !important;position: relative;}#sk-container-id-2 div.sk-text-repr-fallback {display: none;}</style><div id=\"sk-container-id-2\" class=\"sk-top-container\"><div class=\"sk-text-repr-fallback\"><pre>SVC()</pre><b>In a Jupyter environment, please rerun this cell to show the HTML representation or trust the notebook. <br />On GitHub, the HTML representation is unable to render, please try loading this page with nbviewer.org.</b></div><div class=\"sk-container\" hidden><div class=\"sk-item\"><div class=\"sk-estimator sk-toggleable\"><input class=\"sk-toggleable__control sk-hidden--visually\" id=\"sk-estimator-id-2\" type=\"checkbox\" checked><label for=\"sk-estimator-id-2\" class=\"sk-toggleable__label sk-toggleable__label-arrow\">SVC</label><div class=\"sk-toggleable__content\"><pre>SVC()</pre></div></div></div></div></div>"
      ],
      "text/plain": [
       "SVC()"
      ]
     },
     "execution_count": 37,
     "metadata": {},
     "output_type": "execute_result"
    }
   ],
   "source": [
    "svc.fit(X_train, y_train)"
   ]
  },
  {
   "cell_type": "markdown",
   "id": "f867137b",
   "metadata": {
    "papermill": {
     "duration": 0.013414,
     "end_time": "2023-10-07T08:21:41.034548",
     "exception": false,
     "start_time": "2023-10-07T08:21:41.021134",
     "status": "completed"
    },
    "tags": []
   },
   "source": [
    "# GET MODE LPREDICTION\n"
   ]
  },
  {
   "cell_type": "code",
   "execution_count": 38,
   "id": "f1e789e8",
   "metadata": {
    "execution": {
     "iopub.execute_input": "2023-10-07T08:21:41.071266Z",
     "iopub.status.busy": "2023-10-07T08:21:41.070803Z",
     "iopub.status.idle": "2023-10-07T08:21:41.287819Z",
     "shell.execute_reply": "2023-10-07T08:21:41.286375Z"
    },
    "papermill": {
     "duration": 0.242412,
     "end_time": "2023-10-07T08:21:41.290528",
     "exception": false,
     "start_time": "2023-10-07T08:21:41.048116",
     "status": "completed"
    },
    "tags": []
   },
   "outputs": [],
   "source": [
    "y_pred = svc.predict(X_test)"
   ]
  },
  {
   "cell_type": "code",
   "execution_count": 39,
   "id": "462dcb43",
   "metadata": {
    "execution": {
     "iopub.execute_input": "2023-10-07T08:21:41.321004Z",
     "iopub.status.busy": "2023-10-07T08:21:41.320572Z",
     "iopub.status.idle": "2023-10-07T08:21:41.328442Z",
     "shell.execute_reply": "2023-10-07T08:21:41.326996Z"
    },
    "papermill": {
     "duration": 0.027238,
     "end_time": "2023-10-07T08:21:41.331406",
     "exception": false,
     "start_time": "2023-10-07T08:21:41.304168",
     "status": "completed"
    },
    "tags": []
   },
   "outputs": [
    {
     "data": {
      "text/plain": [
       "(1470,)"
      ]
     },
     "execution_count": 39,
     "metadata": {},
     "output_type": "execute_result"
    }
   ],
   "source": [
    "y_pred.shape"
   ]
  },
  {
   "cell_type": "code",
   "execution_count": 40,
   "id": "4e269a59",
   "metadata": {
    "execution": {
     "iopub.execute_input": "2023-10-07T08:21:41.370734Z",
     "iopub.status.busy": "2023-10-07T08:21:41.370275Z",
     "iopub.status.idle": "2023-10-07T08:21:41.378220Z",
     "shell.execute_reply": "2023-10-07T08:21:41.376762Z"
    },
    "papermill": {
     "duration": 0.033665,
     "end_time": "2023-10-07T08:21:41.381515",
     "exception": false,
     "start_time": "2023-10-07T08:21:41.347850",
     "status": "completed"
    },
    "tags": []
   },
   "outputs": [
    {
     "data": {
      "text/plain": [
       "array([0, 1, 1, ..., 1, 1, 1])"
      ]
     },
     "execution_count": 40,
     "metadata": {},
     "output_type": "execute_result"
    }
   ],
   "source": [
    "y_pred"
   ]
  },
  {
   "cell_type": "markdown",
   "id": "ca5aaa6c",
   "metadata": {
    "papermill": {
     "duration": 0.016971,
     "end_time": "2023-10-07T08:21:41.415747",
     "exception": false,
     "start_time": "2023-10-07T08:21:41.398776",
     "status": "completed"
    },
    "tags": []
   },
   "source": [
    "# Get Model Evaluation\n"
   ]
  },
  {
   "cell_type": "code",
   "execution_count": 41,
   "id": "7dda1558",
   "metadata": {
    "execution": {
     "iopub.execute_input": "2023-10-07T08:21:41.453111Z",
     "iopub.status.busy": "2023-10-07T08:21:41.452679Z",
     "iopub.status.idle": "2023-10-07T08:21:41.458376Z",
     "shell.execute_reply": "2023-10-07T08:21:41.456962Z"
    },
    "papermill": {
     "duration": 0.026414,
     "end_time": "2023-10-07T08:21:41.461112",
     "exception": false,
     "start_time": "2023-10-07T08:21:41.434698",
     "status": "completed"
    },
    "tags": []
   },
   "outputs": [],
   "source": [
    "from sklearn.metrics import confusion_matrix, classification_report"
   ]
  },
  {
   "cell_type": "code",
   "execution_count": 42,
   "id": "14a14e3d",
   "metadata": {
    "execution": {
     "iopub.execute_input": "2023-10-07T08:21:41.498907Z",
     "iopub.status.busy": "2023-10-07T08:21:41.498433Z",
     "iopub.status.idle": "2023-10-07T08:21:41.506707Z",
     "shell.execute_reply": "2023-10-07T08:21:41.505320Z"
    },
    "papermill": {
     "duration": 0.029768,
     "end_time": "2023-10-07T08:21:41.509416",
     "exception": false,
     "start_time": "2023-10-07T08:21:41.479648",
     "status": "completed"
    },
    "tags": []
   },
   "outputs": [
    {
     "name": "stdout",
     "output_type": "stream",
     "text": [
      "[[289 203]\n",
      " [124 854]]\n"
     ]
    }
   ],
   "source": [
    "print(confusion_matrix(y_test, y_pred))"
   ]
  },
  {
   "cell_type": "code",
   "execution_count": 43,
   "id": "315a5c40",
   "metadata": {
    "execution": {
     "iopub.execute_input": "2023-10-07T08:21:41.538955Z",
     "iopub.status.busy": "2023-10-07T08:21:41.538572Z",
     "iopub.status.idle": "2023-10-07T08:21:41.554725Z",
     "shell.execute_reply": "2023-10-07T08:21:41.552905Z"
    },
    "papermill": {
     "duration": 0.033761,
     "end_time": "2023-10-07T08:21:41.557293",
     "exception": false,
     "start_time": "2023-10-07T08:21:41.523532",
     "status": "completed"
    },
    "tags": []
   },
   "outputs": [
    {
     "name": "stdout",
     "output_type": "stream",
     "text": [
      "              precision    recall  f1-score   support\n",
      "\n",
      "           0       0.70      0.59      0.64       492\n",
      "           1       0.81      0.87      0.84       978\n",
      "\n",
      "    accuracy                           0.78      1470\n",
      "   macro avg       0.75      0.73      0.74      1470\n",
      "weighted avg       0.77      0.78      0.77      1470\n",
      "\n"
     ]
    }
   ],
   "source": [
    "print(classification_report(y_test, y_pred))"
   ]
  },
  {
   "cell_type": "markdown",
   "id": "26a0548d",
   "metadata": {
    "papermill": {
     "duration": 0.01468,
     "end_time": "2023-10-07T08:21:41.587955",
     "exception": false,
     "start_time": "2023-10-07T08:21:41.573275",
     "status": "completed"
    },
    "tags": []
   },
   "source": [
    "# Get Future Predictions\n"
   ]
  },
  {
   "cell_type": "code",
   "execution_count": 44,
   "id": "6262ea44",
   "metadata": {
    "execution": {
     "iopub.execute_input": "2023-10-07T08:21:41.623614Z",
     "iopub.status.busy": "2023-10-07T08:21:41.623139Z",
     "iopub.status.idle": "2023-10-07T08:21:41.632000Z",
     "shell.execute_reply": "2023-10-07T08:21:41.630599Z"
    },
    "papermill": {
     "duration": 0.029494,
     "end_time": "2023-10-07T08:21:41.634123",
     "exception": false,
     "start_time": "2023-10-07T08:21:41.604629",
     "status": "completed"
    },
    "tags": []
   },
   "outputs": [],
   "source": [
    "df_new = df.sample(1)"
   ]
  },
  {
   "cell_type": "code",
   "execution_count": 45,
   "id": "2c251501",
   "metadata": {
    "execution": {
     "iopub.execute_input": "2023-10-07T08:21:41.665787Z",
     "iopub.status.busy": "2023-10-07T08:21:41.665386Z",
     "iopub.status.idle": "2023-10-07T08:21:41.682759Z",
     "shell.execute_reply": "2023-10-07T08:21:41.681009Z"
    },
    "papermill": {
     "duration": 0.037513,
     "end_time": "2023-10-07T08:21:41.686308",
     "exception": false,
     "start_time": "2023-10-07T08:21:41.648795",
     "status": "completed"
    },
    "tags": []
   },
   "outputs": [
    {
     "data": {
      "text/html": [
       "<div>\n",
       "<style scoped>\n",
       "    .dataframe tbody tr th:only-of-type {\n",
       "        vertical-align: middle;\n",
       "    }\n",
       "\n",
       "    .dataframe tbody tr th {\n",
       "        vertical-align: top;\n",
       "    }\n",
       "\n",
       "    .dataframe thead th {\n",
       "        text-align: right;\n",
       "    }\n",
       "</style>\n",
       "<table border=\"1\" class=\"dataframe\">\n",
       "  <thead>\n",
       "    <tr style=\"text-align: right;\">\n",
       "      <th></th>\n",
       "      <th>fixed acidity</th>\n",
       "      <th>volatile acidity</th>\n",
       "      <th>citric acid</th>\n",
       "      <th>residual sugar</th>\n",
       "      <th>chlorides</th>\n",
       "      <th>free sulfur dioxide</th>\n",
       "      <th>total sulfur dioxide</th>\n",
       "      <th>density</th>\n",
       "      <th>pH</th>\n",
       "      <th>sulphates</th>\n",
       "      <th>alcohol</th>\n",
       "      <th>quality</th>\n",
       "    </tr>\n",
       "  </thead>\n",
       "  <tbody>\n",
       "    <tr>\n",
       "      <th>3680</th>\n",
       "      <td>6.8</td>\n",
       "      <td>0.15</td>\n",
       "      <td>0.41</td>\n",
       "      <td>12.9</td>\n",
       "      <td>0.044</td>\n",
       "      <td>79.5</td>\n",
       "      <td>183.0</td>\n",
       "      <td>0.99742</td>\n",
       "      <td>3.24</td>\n",
       "      <td>0.78</td>\n",
       "      <td>10.2</td>\n",
       "      <td>6</td>\n",
       "    </tr>\n",
       "  </tbody>\n",
       "</table>\n",
       "</div>"
      ],
      "text/plain": [
       "      fixed acidity  volatile acidity  citric acid  residual sugar  chlorides  \\\n",
       "3680            6.8              0.15         0.41            12.9      0.044   \n",
       "\n",
       "      free sulfur dioxide  total sulfur dioxide  density    pH  sulphates  \\\n",
       "3680                 79.5                 183.0  0.99742  3.24       0.78   \n",
       "\n",
       "      alcohol  quality  \n",
       "3680     10.2        6  "
      ]
     },
     "execution_count": 45,
     "metadata": {},
     "output_type": "execute_result"
    }
   ],
   "source": [
    "df_new"
   ]
  },
  {
   "cell_type": "code",
   "execution_count": 46,
   "id": "e5362a2a",
   "metadata": {
    "execution": {
     "iopub.execute_input": "2023-10-07T08:21:41.720605Z",
     "iopub.status.busy": "2023-10-07T08:21:41.720145Z",
     "iopub.status.idle": "2023-10-07T08:21:41.728250Z",
     "shell.execute_reply": "2023-10-07T08:21:41.727003Z"
    },
    "papermill": {
     "duration": 0.029239,
     "end_time": "2023-10-07T08:21:41.730657",
     "exception": false,
     "start_time": "2023-10-07T08:21:41.701418",
     "status": "completed"
    },
    "tags": []
   },
   "outputs": [
    {
     "data": {
      "text/plain": [
       "(1, 12)"
      ]
     },
     "execution_count": 46,
     "metadata": {},
     "output_type": "execute_result"
    }
   ],
   "source": [
    "df_new.shape"
   ]
  },
  {
   "cell_type": "code",
   "execution_count": 47,
   "id": "56a7f986",
   "metadata": {
    "execution": {
     "iopub.execute_input": "2023-10-07T08:21:41.763778Z",
     "iopub.status.busy": "2023-10-07T08:21:41.763315Z",
     "iopub.status.idle": "2023-10-07T08:21:41.770577Z",
     "shell.execute_reply": "2023-10-07T08:21:41.768980Z"
    },
    "papermill": {
     "duration": 0.026701,
     "end_time": "2023-10-07T08:21:41.773259",
     "exception": false,
     "start_time": "2023-10-07T08:21:41.746558",
     "status": "completed"
    },
    "tags": []
   },
   "outputs": [],
   "source": [
    "X_new = df_new.drop(['quality'], axis=1)\n"
   ]
  },
  {
   "cell_type": "code",
   "execution_count": 48,
   "id": "63c34d7c",
   "metadata": {
    "execution": {
     "iopub.execute_input": "2023-10-07T08:21:41.808043Z",
     "iopub.status.busy": "2023-10-07T08:21:41.806628Z",
     "iopub.status.idle": "2023-10-07T08:21:41.816617Z",
     "shell.execute_reply": "2023-10-07T08:21:41.815442Z"
    },
    "papermill": {
     "duration": 0.029532,
     "end_time": "2023-10-07T08:21:41.819165",
     "exception": false,
     "start_time": "2023-10-07T08:21:41.789633",
     "status": "completed"
    },
    "tags": []
   },
   "outputs": [],
   "source": [
    "X_new = ss.fit_transform(X_new)"
   ]
  },
  {
   "cell_type": "code",
   "execution_count": 49,
   "id": "c1376628",
   "metadata": {
    "execution": {
     "iopub.execute_input": "2023-10-07T08:21:41.851761Z",
     "iopub.status.busy": "2023-10-07T08:21:41.850926Z",
     "iopub.status.idle": "2023-10-07T08:21:41.857322Z",
     "shell.execute_reply": "2023-10-07T08:21:41.856138Z"
    },
    "papermill": {
     "duration": 0.025352,
     "end_time": "2023-10-07T08:21:41.859701",
     "exception": false,
     "start_time": "2023-10-07T08:21:41.834349",
     "status": "completed"
    },
    "tags": []
   },
   "outputs": [],
   "source": [
    "y_pred_new = svc.predict(X_new)"
   ]
  },
  {
   "cell_type": "code",
   "execution_count": 50,
   "id": "5fe6c3e3",
   "metadata": {
    "execution": {
     "iopub.execute_input": "2023-10-07T08:21:41.892641Z",
     "iopub.status.busy": "2023-10-07T08:21:41.892182Z",
     "iopub.status.idle": "2023-10-07T08:21:41.901873Z",
     "shell.execute_reply": "2023-10-07T08:21:41.900582Z"
    },
    "papermill": {
     "duration": 0.028874,
     "end_time": "2023-10-07T08:21:41.904446",
     "exception": false,
     "start_time": "2023-10-07T08:21:41.875572",
     "status": "completed"
    },
    "tags": []
   },
   "outputs": [
    {
     "data": {
      "text/plain": [
       "array([1])"
      ]
     },
     "execution_count": 50,
     "metadata": {},
     "output_type": "execute_result"
    }
   ],
   "source": [
    "y_pred_new"
   ]
  }
 ],
 "metadata": {
  "kernelspec": {
   "display_name": "Python 3",
   "language": "python",
   "name": "python3"
  },
  "language_info": {
   "codemirror_mode": {
    "name": "ipython",
    "version": 3
   },
   "file_extension": ".py",
   "mimetype": "text/x-python",
   "name": "python",
   "nbconvert_exporter": "python",
   "pygments_lexer": "ipython3",
   "version": "3.10.12"
  },
  "papermill": {
   "default_parameters": {},
   "duration": 10.529974,
   "end_time": "2023-10-07T08:21:42.644268",
   "environment_variables": {},
   "exception": null,
   "input_path": "__notebook__.ipynb",
   "output_path": "__notebook__.ipynb",
   "parameters": {},
   "start_time": "2023-10-07T08:21:32.114294",
   "version": "2.4.0"
  }
 },
 "nbformat": 4,
 "nbformat_minor": 5
}
